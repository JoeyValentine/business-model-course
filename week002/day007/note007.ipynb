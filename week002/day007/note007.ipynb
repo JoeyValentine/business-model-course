{
 "cells": [
  {
   "cell_type": "markdown",
   "metadata": {},
   "source": [
    "인구에서 키 190이상 비율?\n",
    "1. 진짜 많이 sampling해서 비율 구하기 \n",
    "-> 정확하긴한데, 샘플링에 돈이 많이 듦\n",
    "-> 조금 샘플링하면 190이상 한 명도 안나올 수 있음\n",
    "2. 키190인 사람이 1명이 나올때까지 추출해서 그것을 비율로 사용\n",
    "3. 키가 정규분포를 따른다고 가정하면,\n",
    "적은 샘플링으로 평균과 분산을 구한 다음, 정규분포 그래프에서 190이상인 사람의 비율을 구한다.\n",
    "\n",
    "장점 : 샘플링을 1번보다 조금해도 된다.\n",
    "단점 : 가정(키가 정규분포를 따른다)이 틀리면 오차가 크다."
   ]
  },
  {
   "cell_type": "markdown",
   "metadata": {},
   "source": [
    "저번 프로그램에서 픽셀의 값이 정규분포를 따른다고 가정해서 오차가 크다."
   ]
  },
  {
   "cell_type": "markdown",
   "metadata": {},
   "source": [
    "조도, 각도에 따라서 CNN 성능이 다름 == CNN으로 해결을 하려고 하지말고  \n",
    "이미지 전처리를 통해서 해결해야 한다.   \n",
    "전처리 로직에 따라서 산업적 가치가 있다.\n",
    "\n",
    "감시카메라같은 디바이스에서는 딥러닝 하기 힘들어서 opencv로 light, speedy하게 만드는게 나은 경우가 있다."
   ]
  },
  {
   "cell_type": "markdown",
   "metadata": {},
   "source": [
    "### 4쪽  \n",
    "opencv imread  \n",
    "IMREAD_GRAYSCALE == 3가지 색의 값을 가중평균을 구해서 하나의 값을 만듦 == 3차원을 2차원으로 만듦"
   ]
  },
  {
   "cell_type": "markdown",
   "metadata": {},
   "source": [
    "### 6쪽  \n",
    "목적에 따라서 RGB, HSB사용 == 조사해보자  \n",
    "RGB : 밝기를 바꾸려면 RGB다 바꿔야 함  \n",
    "HSB : 밝기만 바꾸고 싶으면 V값만 바꿔서 바꿀 수 있음"
   ]
  },
  {
   "cell_type": "markdown",
   "metadata": {},
   "source": [
    "### 7쪽  \n",
    "비디오 자료 처리에 이미지 샘플링을 해서 처리하는 것이 일반적임  \n",
    "== 비슷한 데이터가 많아서 모두 쓸 필요가 없다.  "
   ]
  },
  {
   "cell_type": "markdown",
   "metadata": {},
   "source": [
    "### 8쪽   \n",
    "흑백 이미지는 0과 255만 있는 이미지로 0~255사이의 숫자에서 특정 Threshold 값을 기준으로  \n",
    "0 혹은 255로 맵핑하여 얻을 수 있음   \n",
    "\n",
    "이 방법은 Threshold을 픽셀 인접값의 가중치 평균으로 결정하는 방법임 \n",
    ": filter에서 가까울수록 가중치가 크고, 멀수록 가중치가 작다.\n",
    "\n",
    "사용하는 이유??  \n",
    "image 인식하기 위해서는 color image보다 binary image가 인식하기 좋다.  \n",
    "(color는 정보가 너무 많음)"
   ]
  },
  {
   "cell_type": "markdown",
   "metadata": {},
   "source": [
    "### 10쪽  \n",
    "Image Histogram : 2차원 이미지에서 색의 분포..!"
   ]
  },
  {
   "cell_type": "markdown",
   "metadata": {},
   "source": [
    "### 11쪽 \n",
    "image histogram에서 밀집되어 있으면, 최대한 색의 차이가 작아서 선명하지 못하다.  \n",
    "평활화는 히스토그램의 분포의 표준편차를 크게 하여 최대한 색의 차이가 벌어져 Contrast가 커지도록 하는 것임"
   ]
  },
  {
   "cell_type": "markdown",
   "metadata": {},
   "source": [
    "### 12쪽  \n",
    "constrast를 개선...!  \n",
    "가장 작은 값을 0으로, 가장 큰 값을 255로 만들어줘서  \n",
    "이미지를 선명하게 만들어줌  \n",
    "단점...!  \n",
    "but 픽셀 값이 0과 255 outlier처럼 1개씩 값이 존재한다면?? -> Histogram stretch가 효과 없음  \n",
    "\n",
    "Histogram Equalization를 사용해서 CDF를 고려해서 Histogram stretch문제(누적분포를 고려)를 해결함"
   ]
  },
  {
   "cell_type": "markdown",
   "metadata": {},
   "source": [
    "### 14쪽:  \n",
    "crop된 부분의 이미지 히스토그램에서 존재하는 색 값을 기준으로 이미지 추출"
   ]
  },
  {
   "cell_type": "markdown",
   "metadata": {},
   "source": [
    "### 16쪽  \n",
    "블랙박스는 24시간 찍을 수 없다. == 차이가 날 때만 영상을 녹화함"
   ]
  },
  {
   "cell_type": "markdown",
   "metadata": {},
   "source": [
    "### 17쪽  \n",
    "크로마키 : 기상케스터들"
   ]
  },
  {
   "cell_type": "markdown",
   "metadata": {},
   "source": [
    "### 19쪽  \n",
    "blur_gaussian.py :   \n",
    "가우시안 필터는 가중평균 개념이다.== 분산이 줄어들어서 흐릿  \n",
    "색깔 값이 계속 평균과정을 거쳐서 흐릿해짐 == 색 차이가 안나게 됨"
   ]
  },
  {
   "cell_type": "markdown",
   "metadata": {},
   "source": [
    "### 20쪽  \n",
    "gaussian filter는 0과 255가 연산에 영향을 계속 줌  \n",
    "선명도를 유지하면서 salt and pepper noise(0, 255 잡음)를 탁월하게 제거함"
   ]
  },
  {
   "cell_type": "markdown",
   "metadata": {},
   "source": [
    "### 24쪽  \n",
    "Erosion  : outlier 제거  \n",
    "Dilation : 글자 선명하게 해줌  \n",
    "\n",
    "ㄱ. 단순히 영상에서 작은 것을 크게 보기 위해 (팽창)  \n",
    "ㄴ. 단순히 영상에서 작은 것들을 무시하기 위해(침식)  \n",
    "ㄷ. 침식 -> 팽창 을 통한 Opening  \n",
    "ㄹ. 팽창 -> 침식 을 통한 Closing  "
   ]
  },
  {
   "cell_type": "markdown",
   "metadata": {},
   "source": [
    "### 27쪽  \n",
    "다만, Y 축에 평행한 직선은 기울기가 무한대이므로 파라미터 공간에 표현이 불가능함  \n",
    "Hough 공간은 (𝑚0, 𝑏0)을 극좌표 변환을 통해 (𝜃0, 𝜌0)로 변환해서 𝜃는 0과 2𝜋 사이값에서만 구함  \n",
    "\n",
    "교차점이 많은 픽셀들을 직선으로 인식함"
   ]
  }
 ],
 "metadata": {
  "kernelspec": {
   "display_name": "Python 3",
   "language": "python",
   "name": "python3"
  },
  "language_info": {
   "codemirror_mode": {
    "name": "ipython",
    "version": 3
   },
   "file_extension": ".py",
   "mimetype": "text/x-python",
   "name": "python",
   "nbconvert_exporter": "python",
   "pygments_lexer": "ipython3",
   "version": "3.7.3"
  }
 },
 "nbformat": 4,
 "nbformat_minor": 2
}
