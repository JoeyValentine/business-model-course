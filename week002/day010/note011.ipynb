{
 "cells": [
  {
   "cell_type": "markdown",
   "metadata": {},
   "source": [
    "(3*3*3 필터 사이즈, +1 bias  ) * filter수  \n",
    "3*3*32 -> 이전 layer에서 32색 이미지가 넘어온다고 생각함  \n",
    "\n",
    "popular한 영역은 외부에서 만든 api쓰고,  \n",
    "specific한 주제면, 내가 모델을 만들어야지 흑흑"
   ]
  },
  {
   "cell_type": "markdown",
   "metadata": {},
   "source": [
    "### 16쪽  \n",
    "원본 이미지의 해상도를 강제로 낮춘 이후 복원하는 알고리즘"
   ]
  },
  {
   "cell_type": "markdown",
   "metadata": {},
   "source": [
    "### 17쪽  \n",
    "GAN :   \n",
    "generator : 위폐범  \n",
    "discriminator : 경찰  \n",
    "위폐를 진짜라고 판단하면 학습 성공  "
   ]
  },
  {
   "cell_type": "markdown",
   "metadata": {},
   "source": [
    "### 19쪽  \n",
    "과거 통계학에서 GAN과 유사한 아이디어가 있었다.  \n",
    "Gibbs sampling : 다차원분포를 따르는 난수생성하는 기법  \n",
    "\n",
    "이미지 픽셀을 다차원 변수라 생각해서, 다차원 확률변수들끼리 correlated된 구조를 추정  "
   ]
  },
  {
   "cell_type": "markdown",
   "metadata": {},
   "source": [
    "### 20쪽  \n",
    "컴퓨터는 foreground background 구분을 못함  "
   ]
  },
  {
   "cell_type": "markdown",
   "metadata": {},
   "source": [
    "### 23쪽  \n",
    "hierarchical clustering algorithm : clutsering의 원조  \n",
    "cluster부분을 판별기를 거쳐서 일정 확률(threshold) 이상이면 작동함"
   ]
  },
  {
   "cell_type": "markdown",
   "metadata": {},
   "source": [
    "### 25쪽  \n",
    "동영상의 경우 속도가 빨라야 한다..!  (more challenging)  \n",
    "찰나의 순간에 물체를 인식한 다음 의사결정을 해야 한다."
   ]
  },
  {
   "cell_type": "markdown",
   "metadata": {},
   "source": [
    "### 29쪽  \n",
    "이진화해서 문제를 더 간단하게 만듦  \n",
    "색이 같은 부분들을 등고선으로 연결  \n",
    "너무 이상한 모양의 등고선은 제거  "
   ]
  },
  {
   "cell_type": "markdown",
   "metadata": {},
   "source": [
    "### 34쪽  \n",
    "오렌지를 제외한 나머지 색을 0으로 만듦"
   ]
  },
  {
   "cell_type": "markdown",
   "metadata": {},
   "source": [
    "### 36쪽  \n",
    "픽셀의 최빈수를 기준으로 foreground, background 구분해서 객체를 구분할 수 있다.  "
   ]
  },
  {
   "cell_type": "markdown",
   "metadata": {},
   "source": [
    "### 38쪽  \n",
    "YOLO 기존의 알고리즘보다 빠르다.  \n",
    "사람의 bounding box 위치를 regression으로 찾아가는 방식  \n",
    "(p11,p12,p13,p14) -> probability 1,2,3,4,5, ..., n  \n",
    "(p21,p22,p23,p24) -> probability 1,2,3,4,5, ..., n  \n",
    "-> 사람이 있을 것 같은 확률이 높은 위치를 regression으로 추측하는 알고리즘  "
   ]
  },
  {
   "cell_type": "markdown",
   "metadata": {},
   "source": [
    "스마트 공장  \n",
    "생산기계가 멈추면 엄청난 손해...!"
   ]
  }
 ],
 "metadata": {
  "kernelspec": {
   "display_name": "Python 3",
   "language": "python",
   "name": "python3"
  },
  "language_info": {
   "codemirror_mode": {
    "name": "ipython",
    "version": 3
   },
   "file_extension": ".py",
   "mimetype": "text/x-python",
   "name": "python",
   "nbconvert_exporter": "python",
   "pygments_lexer": "ipython3",
   "version": "3.7.3"
  }
 },
 "nbformat": 4,
 "nbformat_minor": 2
}
