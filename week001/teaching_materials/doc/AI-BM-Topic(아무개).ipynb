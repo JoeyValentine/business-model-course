{
 "cells": [
  {
   "cell_type": "markdown",
   "metadata": {},
   "source": [
    "# AI BM 발굴(강사:이이백)\n",
    "```\n",
    "[과정명] 비즈니스모델(BM) 과정\n",
    "[작성자] 아무개\n",
    "[e-Mail] \n",
    "[작성일자] 2019-07-05(금)\n",
    "[중간단계 발표 시연을 위한 리포트 제출] 이이백(yibeck.lee@gmail.com)\n",
    "[최종 리포트 제출] KAIT 한금비 연구원(kbhan@kait.or.kr)\n",
    "\n",
    "```"
   ]
  },
  {
   "cell_type": "markdown",
   "metadata": {},
   "source": [
    "# 작성자 Profile\n",
    "\n",
    "### [이름]\n",
    "\n",
    "    \n"
   ]
  },
  {
   "cell_type": "markdown",
   "metadata": {},
   "source": [
    "### [관심분야]\n",
    "```\n",
    "-. ~~~\n",
    "-. ~~~\n",
    "-. ~~~\n",
    "\n",
    "```"
   ]
  },
  {
   "cell_type": "markdown",
   "metadata": {},
   "source": [
    "### [비즈니스 역량]\n",
    "#### [As-Is]\n",
    "```\n",
    "-. ~~~\n",
    "-. ~~~\n",
    "-. ~~~\n",
    "```\n",
    "#### [Bo-Be]\n",
    "```\n",
    "-. ~~~\n",
    "-. ~~~\n",
    "-. ~~~\n",
    "```"
   ]
  },
  {
   "cell_type": "markdown",
   "metadata": {},
   "source": [
    "### [기술역량 역량]\n",
    "#### [As-Is]\n",
    "```\n",
    "-. ~~~\n",
    "-. ~~~\n",
    "-. ~~~\n",
    "```\n",
    "#### [Bo-Be]\n",
    "```\n",
    "-. ~~~\n",
    "-. ~~~\n",
    "-. ~~~\n",
    "```"
   ]
  },
  {
   "cell_type": "markdown",
   "metadata": {},
   "source": [
    "### [Topic] ~~~~"
   ]
  },
  {
   "cell_type": "markdown",
   "metadata": {},
   "source": [
    "### [기술역량 역량]\n",
    "#### [As-Is]\n",
    "```\n",
    "-. ~~~\n",
    "-. ~~~\n",
    "-. ~~~\n",
    "```\n",
    "#### [Bo-Be]\n",
    "```\n",
    "-. ~~~\n",
    "-. ~~~\n",
    "-. ~~~\n",
    "```"
   ]
  },
  {
   "cell_type": "markdown",
   "metadata": {},
   "source": [
    "### [Business Contribution]\n",
    "\n",
    "```\n",
    "-. ~~~\n",
    "-. ~~~\n",
    "-. ~~~\n",
    "```\n"
   ]
  },
  {
   "cell_type": "markdown",
   "metadata": {},
   "source": [
    "### [데이터 수집 방안]\n",
    "\n",
    "```\n",
    "-. ~~~\n",
    "-. ~~~\n",
    "-. ~~~\n",
    "```\n"
   ]
  },
  {
   "cell_type": "markdown",
   "metadata": {},
   "source": [
    "## [유사 References]\n",
    "\n",
    "```\n",
    "-. ~~~\n",
    "-. ~~~\n",
    "-. ~~~\n",
    "```"
   ]
  },
  {
   "cell_type": "markdown",
   "metadata": {},
   "source": [
    "## [차별성]\n",
    "\n",
    "```\n",
    "-. ~~~\n",
    "-. ~~~\n",
    "-. ~~~\n",
    "```"
   ]
  },
  {
   "cell_type": "markdown",
   "metadata": {},
   "source": [
    "### Entity & Diagram\n",
    "```\n",
    "-. ~~~\n",
    "-. ~~~\n",
    "-. ~~~\n",
    "```"
   ]
  },
  {
   "cell_type": "markdown",
   "metadata": {},
   "source": [
    "### 서비스 프로세스\n",
    "```\n",
    "-. ~~~\n",
    "-. ~~~\n",
    "-. ~~~\n",
    "```"
   ]
  },
  {
   "cell_type": "markdown",
   "metadata": {},
   "source": [
    "### Output Image\n",
    "```\n",
    "-. ~~~\n",
    "-. ~~~\n",
    "-. ~~~\n",
    "```"
   ]
  },
  {
   "cell_type": "markdown",
   "metadata": {},
   "source": [
    "![](ai-service.jpg)"
   ]
  },
  {
   "cell_type": "code",
   "execution_count": null,
   "metadata": {},
   "outputs": [],
   "source": []
  },
  {
   "cell_type": "code",
   "execution_count": null,
   "metadata": {},
   "outputs": [],
   "source": []
  }
 ],
 "metadata": {
  "kernelspec": {
   "display_name": "Python 3",
   "language": "python",
   "name": "python3"
  },
  "language_info": {
   "codemirror_mode": {
    "name": "ipython",
    "version": 3
   },
   "file_extension": ".py",
   "mimetype": "text/x-python",
   "name": "python",
   "nbconvert_exporter": "python",
   "pygments_lexer": "ipython3",
   "version": "3.6.8"
  }
 },
 "nbformat": 4,
 "nbformat_minor": 2
}
