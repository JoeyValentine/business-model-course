{
 "cells": [
  {
   "cell_type": "markdown",
   "metadata": {},
   "source": [
    "### 실습\n",
    "# 아나콘다\n",
    ": 패키지 파일을 미리 컴파일을 해줘서 우리가 쓰기쉽게 함  \n",
    "## python module 설치 순서  \n",
    "1. conda 명령어  \n",
    "2. 만일 conda에서 오류나면, pip로 설치  \n",
    "3. pip으로도 안되면 ㄸㄹㄹ 지원 안되는듯  \n",
    "\n",
    "conda prompt로 설치 가능한가 확인하는 방법 : “conda 모듈명”으로 구글검색하면   \n",
    "Tensorflow :: Anaconda Cloud 이런식으로 나옴 == conda에서 설치 가능"
   ]
  },
  {
   "cell_type": "markdown",
   "metadata": {},
   "source": [
    "# 수업시간 목적 : \n",
    "tensorflow 작동하는 것을 웹으로 보기 == 폰으로도 가능 == 라즈베리파이(embedded)에서도 가능 인터넷으로…."
   ]
  },
  {
   "cell_type": "markdown",
   "metadata": {},
   "source": [
    "## [shebang](https://wikidocs.net/16051)  \n",
    "e200-activation.py에서 <code>#! /c/Apps/Anaconda3/python</code>  \n",
    "Unix계열 OS(리눅스, Mac)에서 스크립트(bash, python등등) 코드 최상단에서 해당 파일을 해석해줄 인터프리터의 절대경로를 지정합니다."
   ]
  },
  {
   "cell_type": "markdown",
   "metadata": {},
   "source": [
    "만든 모델을 웹에서 서비스하는 방법([예시](https://github.com/manerfan/flask-mnist-tensorflow))  \n",
    "1. 만든 모델을 서버에 저장\n",
    "2. 모델이 존재하는 서버에 입력 전송\n",
    "3. 모델에서 생성한 예측값을 predict해서 서버를 통해서 return 함  \n",
    "== 라즈베리파이와 같이 한정적인 하드웨어 resource일 때 주로 사용   \n",
    "\n",
    "[집에서 웹 서버운영하기](https://opentutorials.org/course/228/6040)  \n",
    "chrome에서 localhost:4000으로 실행하면 됨\n",
    "[localhost란?](https://ithub.tistory.com/180)  \n",
    "[공인IP, 사설IP, 고정IP, 동적IP](https://m.blog.naver.com/xcripts/70121283191)"
   ]
  },
  {
   "cell_type": "markdown",
   "metadata": {},
   "source": [
    "### 2-8쪽  \n",
    "[ETL](https://pizzaplanet.tistory.com/entry/Data-Warehouse-ETL-%EA%B0%84%EB%9E%B5-%EA%B0%9C%EB%85%90-%EC%A0%95%EB%A6%AC)"
   ]
  },
  {
   "cell_type": "markdown",
   "metadata": {},
   "source": [
    "### 2-9\n",
    "Get Data from Source > 내부 Data Contents 측면 (기업 내부의 데이터)  \n",
    ": 기업 내부의 정보를 서로 metadata를 잘 전달해야 함  \n",
    "metadata전달이 안되는 비효율적인 기업이 있음...  \n",
    "생산자의 metadata를 주문한 발주자에게 잘 전달해야한다.  \n",
    "결함문제나 원산지? 같은 제품의 특징이 되는 metadata를 통해서 원인을 발견하거나 예측모델을 만들 때 활용할 수 있다.  \n",
    "자동차를 만들 때, 자동차를 만드는 회사는 여러 부품들의 metadata를 수집해야 한다.  "
   ]
  },
  {
   "cell_type": "markdown",
   "metadata": {},
   "source": [
    "### 2-10\n",
    "Get Data from Source > 외부 데이터 수집 측면(기업 외부 데이터)  \n",
    ": sns에서(외부) 상품 반응으로부터 생산률 결정하거나 등등…"
   ]
  },
  {
   "cell_type": "markdown",
   "metadata": {},
   "source": [
    "### 2-14\n",
    "Demensionality Reduction method  \n",
    "PCA, CDA, Autoencoder, TSNE, SVD  \n",
    "\n",
    "squared error  \n",
    "accuracy  \n",
    "⇒ 평가 지표  \n",
    "\n",
    "prediction vs forecast 차이  \n",
    "https://www.datascienceblog.net/post/machine-learning/forecasting_vs_prediction/"
   ]
  },
  {
   "cell_type": "markdown",
   "metadata": {},
   "source": [
    "### 2-15\n",
    "regression == 불량률 온도 압력 예측\n",
    "\n",
    "deep learning하고나서\n",
    "support vector, random forest를 기준선으로 보다 성능이 좋아야 한다.\n",
    "\n",
    "Supervised (by human)의미 : 사람에 의해서 지도됨…!\n",
    "\n",
    "addition RNN : 꼭 RNN만 가능한 것은 아니다. \n",
    "\n",
    "시각지능할 때 CNN써야 정확도가 높다는 것이지, 다른 알고리즘으로도 사용 가능하다.   \n",
    "(어떤 알고리즘 써야 하나요? 관점이 아니라, 어떤 알고리즘이 정확도가 높은가가 차이이다.)  \n",
    "같은 classification이면, decision tree, random forest,  \n",
    "support vector, MLP, CNN, RNN  사용 가능 하지만 성능에 차이만 있을 뿐이다."
   ]
  },
  {
   "cell_type": "markdown",
   "metadata": {},
   "source": [
    "### 2-16\n",
    "features, label : 통계학에선 설명변수, 종속변수라고 부름"
   ]
  },
  {
   "cell_type": "markdown",
   "metadata": {},
   "source": [
    "### 2-17\n",
    "https://en.wikipedia.org/wiki/Evaluation_of_binary_classifiers  \n",
    "Recall과 precision은 trade off 하는 경향이 있다.  \n",
    "== 정확도 하나만 보면 안된다.  \n",
    "target이 아주 작은 경우 정확도는 의미없다, 정확도와 검출률을 같이 봐야한다.  \n",
    "따라서 f1이라는 지표를 사용하자  "
   ]
  },
  {
   "cell_type": "markdown",
   "metadata": {},
   "source": [
    "### 2-23\n",
    "발표를 할 때, 내가 제시한 모델이 얼마나  최적인가를 보여줘야 한다.  \n",
    "다른 모델들도 비교평가해서 제시해줘야 한다. == 다른 모델들로부터 더 나은 결과를 얻을 수 있었나 확인한 과정을 보여줌  \n",
    "다른 모델에서 최적의 결과가 나올 수 있으므로 여러 모델을 확인해본다.  "
   ]
  },
  {
   "cell_type": "markdown",
   "metadata": {},
   "source": [
    "### 2-27\n",
    "tensorflow lite를 이용해서 라즈베리파이에 모델을 임베딩함"
   ]
  },
  {
   "cell_type": "markdown",
   "metadata": {},
   "source": [
    "### 2-28\n",
    "ONNX가 뭐야??  \n",
    "https://cloud.hosting.kr/techblog_180816_aws-deep-learning-amis/  \n",
    "https://github.com/onnx/onnx  \n",
    "\n",
    "framework ???  \n",
    "https://blog.gaerae.com/2016/11/what-is-library-and-framework-and-architecture-and-platform.html"
   ]
  },
  {
   "cell_type": "markdown",
   "metadata": {},
   "source": [
    "### 2-30\n",
    "AI-a-a-S : AWS에서 AI서비스를 제공해줌 (따로따로 설치할 필요 없이 간단하게 서비스 제공)  \n",
    "원래는 backend에 따라서 따로 설치하고 귀찮..."
   ]
  }
 ],
 "metadata": {
  "kernelspec": {
   "display_name": "Python 3",
   "language": "python",
   "name": "python3"
  },
  "language_info": {
   "codemirror_mode": {
    "name": "ipython",
    "version": 3
   },
   "file_extension": ".py",
   "mimetype": "text/x-python",
   "name": "python",
   "nbconvert_exporter": "python",
   "pygments_lexer": "ipython3",
   "version": "3.7.3"
  }
 },
 "nbformat": 4,
 "nbformat_minor": 2
}
