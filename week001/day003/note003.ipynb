{
 "cells": [
  {
   "cell_type": "markdown",
   "metadata": {},
   "source": [
    "### 3-9쪽\n",
    "산업에서 불량품 & 고장 & 품질 예측 중요해짐  \n",
    "ex) 반도체 회사에서 불량률 0.1퍼만 줄여도 수 억 이익을 봄  \n",
    "공정 과정에서 parameter를 분석해서 불량품이 생길지 파악하는(인공지능으로...) 것이 중요…!  \n",
    "스펙을 벗어남을 감지(9쪽)"
   ]
  },
  {
   "cell_type": "markdown",
   "metadata": {},
   "source": [
    "### 3-11쪽 : \n",
    "도요타는 필요할 때마다 부품 주문함 => 재고가 줄음  "
   ]
  },
  {
   "cell_type": "markdown",
   "metadata": {},
   "source": [
    "### 실습 \n",
    "1. git-scm, conemu, nodejs 설치\n",
    "2. npm install -g yarn : yarn설치\n",
    "3. cd mnist-core\n",
    "4. yarn\n",
    "5. yarn watch\n",
    "\n",
    "conemu - shell이 탭으로 생성됨 == 편-안  \n",
    "\n",
    "웹으로 tensorflow 서비스 가능  \n",
    "https://github.com/tensorflow/tfjs-examples  \n",
    "\n",
    "### 동일한 조건인데, 매번 수행할 때마다 학습도가 다른 이유  \n",
    "1. 데이터를 train test split 나눌 때 랜덤이다.\n",
    "2. 학습할 때 데이터를 random하게 가져옴(batch)\n",
    "3. 가중치 및 bias를 random하게 줌 ( ax1 + bx2 + c )\n",
    "\n",
    "addition RNN : 숫자 2개와 정답 label로 덧셈을 수행하는 모델을 만듦"
   ]
  }
 ],
 "metadata": {
  "kernelspec": {
   "display_name": "Python 3",
   "language": "python",
   "name": "python3"
  },
  "language_info": {
   "codemirror_mode": {
    "name": "ipython",
    "version": 3
   },
   "file_extension": ".py",
   "mimetype": "text/x-python",
   "name": "python",
   "nbconvert_exporter": "python",
   "pygments_lexer": "ipython3",
   "version": "3.7.3"
  }
 },
 "nbformat": 4,
 "nbformat_minor": 2
}
