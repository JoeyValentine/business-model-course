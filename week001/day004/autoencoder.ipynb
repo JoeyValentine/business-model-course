{
 "cells": [
  {
   "cell_type": "markdown",
   "metadata": {},
   "source": [
    "```\n",
    "[Title] Autoencoder using Tensorflow.Keras\n",
    "[Author] Yibeck Lee(yibec.Lee@gmail.com)\n",
    "[Contents]\n",
    " - Aucoencoder for Dimension Reduction\n",
    "[References]\n",
    " - https://towardsdatascience.com/pca-vs-autoencoders-1ba08362f450\n",
    " - https://medium.com/datadriveninvestor/deep-autoencoder-using-keras-b77cd3e8be95\n",
    "```"
   ]
  },
  {
   "cell_type": "code",
   "execution_count": 1,
   "metadata": {},
   "outputs": [
    {
     "name": "stderr",
     "output_type": "stream",
     "text": [
      "Using TensorFlow backend.\n"
     ]
    }
   ],
   "source": [
    "from keras.layers import Input, Dense\n",
    "from keras.models import Model\n",
    "import numpy as np"
   ]
  },
  {
   "cell_type": "code",
   "execution_count": 16,
   "metadata": {},
   "outputs": [
    {
     "name": "stdout",
     "output_type": "stream",
     "text": [
      "[[1 1 1]\n",
      " [1 1 1]\n",
      " [1 1 1]\n",
      " [1 1 1]\n",
      " [1 2 3]\n",
      " [2 2 2]\n",
      " [2 2 2]\n",
      " [2 2 2]\n",
      " [2 2 2]\n",
      " [1 3 5]]\n"
     ]
    }
   ],
   "source": [
    "trainFeatures = np.array([\n",
    "  [1,1,1]\n",
    ", [1,1,1]\n",
    ", [1,1,1]\n",
    ", [1,1,1]\n",
    ", [1,2,3]  # 다른 데이터와 유사하지 않은 데이터\n",
    ", [2,2,2]\n",
    ", [2,2,2]\n",
    ", [2,2,2]\n",
    ", [2,2,2]\n",
    ", [1,3,5]  # 다른 데이터와 유사하지 않은 데이터\n",
    "])\n",
    "print(trainFeatures)"
   ]
  },
  {
   "cell_type": "code",
   "execution_count": 17,
   "metadata": {},
   "outputs": [],
   "source": [
    "encoding_dim = 2\n",
    "input_img = Input(shape=(3,))\n",
    "encoded = Dense(encoding_dim)(input_img)\n",
    "decoded = Dense(3)(encoded)\n",
    "autoencoder = Model(input_img, decoded)\n",
    "autoencoder.compile(optimizer='adadelta', loss='mse')"
   ]
  },
  {
   "cell_type": "code",
   "execution_count": 18,
   "metadata": {},
   "outputs": [
    {
     "data": {
      "text/plain": [
       "<keras.callbacks.History at 0x21334f8c4a8>"
      ]
     },
     "execution_count": 18,
     "metadata": {},
     "output_type": "execute_result"
    }
   ],
   "source": [
    "autoencoder.fit(trainFeatures, trainFeatures,\n",
    "                epochs=100,\n",
    "                batch_size=2,\n",
    "                verbose=0,\n",
    "                shuffle=True)"
   ]
  },
  {
   "cell_type": "code",
   "execution_count": 19,
   "metadata": {},
   "outputs": [],
   "source": [
    "decoded_imgs = autoencoder.predict(trainFeatures)"
   ]
  },
  {
   "cell_type": "code",
   "execution_count": 20,
   "metadata": {},
   "outputs": [
    {
     "data": {
      "text/plain": [
       "array([[1.1648988, 1.259543 , 1.2881799],\n",
       "       [1.1648988, 1.259543 , 1.2881799],\n",
       "       [1.1648988, 1.259543 , 1.2881799],\n",
       "       [1.1648988, 1.259543 , 1.2881799],\n",
       "       [1.2490183, 1.7521611, 2.2233188],\n",
       "       [1.6536717, 2.1080785, 2.476304 ],\n",
       "       [1.6536717, 2.1080785, 2.476304 ],\n",
       "       [1.6536717, 2.1080785, 2.476304 ],\n",
       "       [1.6536717, 2.1080785, 2.476304 ],\n",
       "       [1.3331378, 2.2447793, 3.158458 ]], dtype=float32)"
      ]
     },
     "execution_count": 20,
     "metadata": {},
     "output_type": "execute_result"
    }
   ],
   "source": [
    "decoded_imgs\n",
    "# [1.2490183, 1.7521611, 2.2233188] 추측을 잘 못함\n",
    "# [1.3331378, 2.2447793, 3.158458 ] 추측을 잘 못함"
   ]
  },
  {
   "cell_type": "code",
   "execution_count": 21,
   "metadata": {},
   "outputs": [],
   "source": [
    "error = trainFeatures - decoded_imgs # cost"
   ]
  },
  {
   "cell_type": "code",
   "execution_count": 22,
   "metadata": {},
   "outputs": [
    {
     "data": {
      "text/plain": [
       "array([[0.0271916 , 0.06736254, 0.08304764],\n",
       "       [0.0271916 , 0.06736254, 0.08304764],\n",
       "       [0.0271916 , 0.06736254, 0.08304764],\n",
       "       [0.0271916 , 0.06736254, 0.08304764],\n",
       "       [0.06201012, 0.0614241 , 0.60323366],\n",
       "       [0.11994326, 0.01168096, 0.22686555],\n",
       "       [0.11994326, 0.01168096, 0.22686555],\n",
       "       [0.11994326, 0.01168096, 0.22686555],\n",
       "       [0.11994326, 0.01168096, 0.22686555],\n",
       "       [0.11098076, 0.57035823, 3.39127696]])"
      ]
     },
     "execution_count": 22,
     "metadata": {},
     "output_type": "execute_result"
    }
   ],
   "source": [
    "error_square = error**2\n",
    "error_square"
   ]
  },
  {
   "cell_type": "code",
   "execution_count": 23,
   "metadata": {},
   "outputs": [
    {
     "data": {
      "text/plain": [
       "array([0.17760178, 0.17760178, 0.17760178, 0.17760178, 0.72666788,\n",
       "       0.35848977, 0.35848977, 0.35848977, 0.35848977, 4.07261595])"
      ]
     },
     "execution_count": 23,
     "metadata": {},
     "output_type": "execute_result"
    }
   ],
   "source": [
    "error_square = np.sum(error_square, axis=1)\n",
    "error_square"
   ]
  },
  {
   "cell_type": "code",
   "execution_count": 24,
   "metadata": {},
   "outputs": [
    {
     "data": {
      "image/png": "[encoded data removed]",
      "text/plain": [
       "<Figure size 432x288 with 1 Axes>"
      ]
     },
     "metadata": {
      "needs_background": "light"
     },
     "output_type": "display_data"
    }
   ],
   "source": [
    "%matplotlib inline\n",
    "import matplotlib.pyplot as plt\n",
    "ind = np.arange(10) \n",
    "plt.bar(ind, error_square)\n",
    "plt.show()\n",
    "\n",
    "# 일정 값 이상 값이 큰 것을 기준으로, outlier를 찾을 수 있다."
   ]
  }
 ],
 "metadata": {
  "kernelspec": {
   "display_name": "Python 3",
   "language": "python",
   "name": "python3"
  },
  "language_info": {
   "codemirror_mode": {
    "name": "ipython",
    "version": 3
   },
   "file_extension": ".py",
   "mimetype": "text/x-python",
   "name": "python",
   "nbconvert_exporter": "python",
   "pygments_lexer": "ipython3",
   "version": "3.7.3"
  }
 },
 "nbformat": 4,
 "nbformat_minor": 2
}
