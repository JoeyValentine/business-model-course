{
 "cells": [
  {
   "cell_type": "markdown",
   "metadata": {},
   "source": [
    "# BM과정 1주차"
   ]
  },
  {
   "cell_type": "markdown",
   "metadata": {},
   "source": [
    "강사 : 이이백 강사님  \n",
    "전화번호 : 010-4527-5033  \n",
    "이메일 : yibeck.lee@gmail.com  \n",
    "[강의자료](https://github.com/mlstack/KAITBM-02)  "
   ]
  },
  {
   "cell_type": "markdown",
   "metadata": {},
   "source": [
    "[인공지능의 역사](http://tcpschool.com/deeplearning/intro)"
   ]
  },
  {
   "cell_type": "markdown",
   "metadata": {},
   "source": [
    "#### 1-4쪽   \n",
    "[analysis vs analytics](https://www.getsmarter.com/blog/career-advice/difference-data-analytics-data-analysis/)"
   ]
  },
  {
   "cell_type": "markdown",
   "metadata": {},
   "source": [
    "#### 1-5쪽  \n",
    "DBMS와 달리 하둡은 scale out을 이용해서 (여러 컴퓨터를 연결)    \n",
    "기존의 db가 저장하기 힘든 데이터를 하둡에서 담아냄   \n",
    "unstructured/semi structured/structured data 저장 가능한듯   \n",
    "\n",
    "[unstructured/semi structured/structured data](https://www.researchgate.net/figure/Unstructured-semi-structured-and-structured-data_fig4_236860222)"
   ]
  },
  {
   "cell_type": "markdown",
   "metadata": {},
   "source": [
    "#### 1-11쪽\n",
    "spark과 AI의 연결... == 0.5초 마다 온도체크한 데이터를 하둡에 보관…!  \n",
    "[Spark](https://spark.apache.org/)  \n",
    "[PySpark](https://blog.sicara.com/get-started-pyspark-jupyter-guide-tutorial-ae2fe84f594f)"
   ]
  },
  {
   "cell_type": "markdown",
   "metadata": {},
   "source": [
    "#### 1-14쪽\n",
    "rethink scale out: 과거 db는 메모리를 공유했어야 한다. 여러 컴퓨터를 쓰더라도 공유 메모리를 써야한다.  \n",
    "하지만 하둡은 여러 대 사용해도 괜찮다. 각 컴퓨터에 다른 메모리 사용해도 괜찮음"
   ]
  },
  {
   "cell_type": "markdown",
   "metadata": {},
   "source": [
    "#### 1-22쪽\n",
    "접근하지 못했던 실시간 Streaming Data(실시간 시장의 흐름, 공정의 상태 변화 등)의 모니터링 실현으로 상시 업무로의 전환  \n",
    "== 사람이 streaming data를 상시 분석하기 힘듦  \n",
    "== 기계에 인공지능으로 자동으로, 상시 분석가능…! (기계는 피로도가 없으니까)"
   ]
  },
  {
   "cell_type": "markdown",
   "metadata": {},
   "source": [
    "#### Hadoop설치  \n",
    "1. virtual box 설치\n",
    "2. 우분투 설치\n",
    "3. 내 컴퓨터(ip)와 네트워크 연결되어있는지 확인\n",
    "ping 테스트\n",
    "4. 우분투에서 apt-get install openssh-server  \n",
    "https://zetawiki.com/wiki/%EC%9A%B0%EB%B6%84%ED%88%AC_sshd_%EC%84%A4%EC%B9%98\n",
    "5. service ssh restart\n",
    "6. sudo ufw disable\n",
    "7. 파일질라 설치\n",
    "8.  우분투 ip로 file zila로 이동가능 (ip addr 명령어)\n",
    "9. virtual box 설정 네트워크 \n",
    "어뎁터1 고급 포트포워딩 22포트 추가\n",
    "어뎁터2에서 다음에 연결됨 : 어뎁터에 브리지 사용\n",
    "10. 파일질라를 통해서 \n",
    "https://github.com/mlstack/KAITBM-02  jdk 다운로드한거 우분투로 옮기기 \n",
    "11. 우분투에서 압축풀기\n",
    "12. .bashrc 에서 \n",
    "export JAVA_HOME=/home/유저명/jdk1.8.0_201  (jdk 다운 받은 버전에 알맞는 경로 쓰기)\n",
    "export PATH=$PATH:$JAVA_HOME/bin\n",
    "추가해서 다시 우분투에 넣기\n",
    "13. pc terminal에서 접속 가능 ... 와우\n",
    "14. source .bashrc \n",
    "15. wget http://mirror.navercorp.com/apache/hadoop/common/hadoop-3.2.0/hadoop-3.2.0.tar.gz\n",
    "16. vim etc/hadoop/hadoop-env.sh 해서\n",
    "export JAVA_HOME=자바경로 등록!\n",
    "17. sudo apt-get install curl \n",
    "18. \n",
    "mkdir input  \n",
    "curl https://en.wikipedia.org/wiki/Artificial_intelligence > artificial_intelligence.html\n",
    "19.  bin/hadoop jar share/hadoop/mapreduce/hadoop-mapreduce-examples-3.2.0.jar grep input output 'a[a-z.]+'\n",
    "20. cat ./output/*\n",
    "TA-DA\n",
    "\n",
    "\n",
    "네트워크 브릿지가 뭐야??\n",
    "https://annotations.tistory.com/87 \n",
    "https://maysent.tistory.com/entry/VMware-Workstation-%EB%84%A4%ED%8A%B8%EC%9B%8C%ED%81%AC-%EA%B5%AC%EC%84%B1%EC%9D%98-%EC%9D%B4%ED%95%B4 \n",
    " \n",
    "https://hadoop.apache.org/docs/r3.2.0/hadoop-project-dist/hadoop-common/SingleCluster.html \n",
    " \n",
    "하둡 설치방법\n",
    "https://coding-factory.tistory.com/60 \n",
    " \n",
    "하둡설치\n",
    "http://blog.naver.com/dudwns530\n"
   ]
  },
  {
   "cell_type": "markdown",
   "metadata": {},
   "source": [
    "# command line\n",
    "\n",
    "1. **[curl](https://www.lesstif.com/pages/viewpage.action?pageId=14745703#curl%EC%84%A4%EC%B9%98%EB%B0%8F%EC%82%AC%EC%9A%A9%EB%B2%95-HTTPGET/POST,RESTAPI%EC%97%B0%EA%B3%84%EB%93%B1-%EA%B0%9C%EC%9A%94)**\n",
    "2. **[wget](http://www.incodom.kr/Linux/%EA%B8%B0%EB%B3%B8%EB%AA%85%EB%A0%B9%EC%96%B4/wget)**"
   ]
  }
 ],
 "metadata": {
  "kernelspec": {
   "display_name": "Python 3",
   "language": "python",
   "name": "python3"
  },
  "language_info": {
   "codemirror_mode": {
    "name": "ipython",
    "version": 3
   },
   "file_extension": ".py",
   "mimetype": "text/x-python",
   "name": "python",
   "nbconvert_exporter": "python",
   "pygments_lexer": "ipython3",
   "version": "3.7.3"
  }
 },
 "nbformat": 4,
 "nbformat_minor": 2
}
